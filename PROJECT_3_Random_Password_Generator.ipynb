{
  "nbformat": 4,
  "nbformat_minor": 0,
  "metadata": {
    "colab": {
      "provenance": []
    },
    "kernelspec": {
      "name": "python3",
      "display_name": "Python 3"
    },
    "language_info": {
      "name": "python"
    }
  },
  "cells": [
    {
      "cell_type": "code",
      "source": [
        "import random\n",
        "import string\n",
        "\n",
        "def generate_password(length):\n",
        "    chars=string.ascii_letters+string.digits+string.punctuation\n",
        "    return ''.join(random.choice(chars)for _ in range(length))\n",
        "\n",
        "length=int(input(\"Enter password length: \"))\n",
        "print(\"Generated Password:\",generate_password(length))\n"
      ],
      "metadata": {
        "id": "l2UnPIU5XbzO",
        "colab": {
          "base_uri": "https://localhost:8080/"
        },
        "outputId": "0b02d515-0d2d-4be6-e1bd-40d2e69737d1"
      },
      "execution_count": 3,
      "outputs": [
        {
          "output_type": "stream",
          "name": "stdout",
          "text": [
            "Enter password length: 5\n",
            "Generated Password: f)^8M\n"
          ]
        }
      ]
    },
    {
      "cell_type": "code",
      "source": [
        "import random\n",
        "import string\n",
        "import secrets\n",
        "\n",
        "def generate_password(length, use_upper=True, use_lower=True, use_digits=True, use_special=True):\n",
        "    chars=\"\"\n",
        "    if use_upper:\n",
        "        chars+=string.ascii_uppercase\n",
        "    if use_lower:\n",
        "        chars+=string.ascii_lowercase\n",
        "    if use_digits:\n",
        "        chars+=string.digits\n",
        "    if use_special:\n",
        "        chars+=string.punctuation\n",
        "    if len(chars)==0 or length<4:\n",
        "        return \"Invalid input! Ensure at least one character type is selected and length is at least 4.\"\n",
        "    return ''.join(secrets.choice(chars)for _ in range(length))\n",
        "\n",
        "def main():\n",
        "    print(\"Welcome to Secure Password Manager\")\n",
        "    length=int(input(\"Enter desired password length: \"))\n",
        "    use_upper=input(\"Include uppercase letters? (y/n): \").lower()=='y'\n",
        "    use_lower=input(\"Include lowercase letters? (y/n): \").lower()=='y'\n",
        "    use_digits=input(\"Include digits? (y/n): \").lower()=='y'\n",
        "    use_special=input(\"Include special characters? (y/n): \").lower()=='y'\n",
        "\n",
        "    password=generate_password(length, use_upper, use_lower, use_digits, use_special)\n",
        "    print(\"Generated Secure Password:\", password)\n",
        "\n",
        "if __name__==\"__main__\":\n",
        "    main()"
      ],
      "metadata": {
        "colab": {
          "base_uri": "https://localhost:8080/"
        },
        "id": "ipzVKGGnw5LK",
        "outputId": "8faa0129-f946-4320-fe5e-412d41950a91"
      },
      "execution_count": 6,
      "outputs": [
        {
          "output_type": "stream",
          "name": "stdout",
          "text": [
            "Welcome to Secure Password Manager\n",
            "Enter desired password length: 5\n",
            "Include uppercase letters? (y/n): y\n",
            "Include lowercase letters? (y/n): y\n",
            "Include digits? (y/n): y\n",
            "Include special characters? (y/n): y\n",
            "Generated Secure Password: ,)2Yj\n"
          ]
        }
      ]
    },
    {
      "cell_type": "code",
      "source": [],
      "metadata": {
        "id": "-Ig_jESIxT_2"
      },
      "execution_count": null,
      "outputs": []
    }
  ]
}